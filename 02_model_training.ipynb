{
 "cells": [
  {
   "cell_type": "markdown",
   "metadata": {},
   "source": [
    "# Model Training - AAPL Stock Price Prediction\n",
    "\n",
    "Objetivo: Treinar modelo Prophet para prever preços de fechamento da AAPL"
   ]
  },
  {
   "cell_type": "code",
   "execution_count": 1,
   "metadata": {},
   "outputs": [
    {
     "name": "stderr",
     "output_type": "stream",
     "text": [
      "Importing plotly failed. Interactive plots will not work.\n"
     ]
    }
   ],
   "source": [
    "import pandas as pd\n",
    "import numpy as np\n",
    "import matplotlib.pyplot as plt\n",
    "import seaborn as sns\n",
    "from prophet import Prophet\n",
    "from sklearn.metrics import mean_absolute_error, mean_squared_error, r2_score\n",
    "import pickle\n",
    "from datetime import datetime\n",
    "import warnings\n",
    "warnings.filterwarnings('ignore')"
   ]
  },
  {
   "cell_type": "code",
   "execution_count": 2,
   "metadata": {},
   "outputs": [],
   "source": [
    "sns.set_style('whitegrid')\n",
    "plt.rcParams['figure.figsize'] = (14, 6)"
   ]
  },
  {
   "cell_type": "markdown",
   "metadata": {},
   "source": [
    "## 1. Coletar Dados Novamente (Fresh)\n",
    "\n",
    "Vamos coletar dados direto do Yahoo Finance para evitar problemas com CSV"
   ]
  },
  {
   "cell_type": "code",
   "execution_count": 3,
   "metadata": {},
   "outputs": [
    {
     "name": "stdout",
     "output_type": "stream",
     "text": [
      "Coletando dados de AAPL...\n"
     ]
    },
    {
     "name": "stderr",
     "output_type": "stream",
     "text": [
      "[*********************100%***********************]  1 of 1 completed"
     ]
    },
    {
     "name": "stdout",
     "output_type": "stream",
     "text": [
      "✓ 1254 registros coletados\n"
     ]
    },
    {
     "name": "stderr",
     "output_type": "stream",
     "text": [
      "\n"
     ]
    },
    {
     "data": {
      "text/html": [
       "<div>\n",
       "<style scoped>\n",
       "    .dataframe tbody tr th:only-of-type {\n",
       "        vertical-align: middle;\n",
       "    }\n",
       "\n",
       "    .dataframe tbody tr th {\n",
       "        vertical-align: top;\n",
       "    }\n",
       "\n",
       "    .dataframe thead tr th {\n",
       "        text-align: left;\n",
       "    }\n",
       "\n",
       "    .dataframe thead tr:last-of-type th {\n",
       "        text-align: right;\n",
       "    }\n",
       "</style>\n",
       "<table border=\"1\" class=\"dataframe\">\n",
       "  <thead>\n",
       "    <tr>\n",
       "      <th>Price</th>\n",
       "      <th>Close</th>\n",
       "      <th>High</th>\n",
       "      <th>Low</th>\n",
       "      <th>Open</th>\n",
       "      <th>Volume</th>\n",
       "    </tr>\n",
       "    <tr>\n",
       "      <th>Ticker</th>\n",
       "      <th>AAPL</th>\n",
       "      <th>AAPL</th>\n",
       "      <th>AAPL</th>\n",
       "      <th>AAPL</th>\n",
       "      <th>AAPL</th>\n",
       "    </tr>\n",
       "    <tr>\n",
       "      <th>Date</th>\n",
       "      <th></th>\n",
       "      <th></th>\n",
       "      <th></th>\n",
       "      <th></th>\n",
       "      <th></th>\n",
       "    </tr>\n",
       "  </thead>\n",
       "  <tbody>\n",
       "    <tr>\n",
       "      <th>2020-10-29</th>\n",
       "      <td>112.173805</td>\n",
       "      <td>113.739881</td>\n",
       "      <td>109.138923</td>\n",
       "      <td>109.304291</td>\n",
       "      <td>146129200</td>\n",
       "    </tr>\n",
       "    <tr>\n",
       "      <th>2020-10-30</th>\n",
       "      <td>105.890060</td>\n",
       "      <td>108.934664</td>\n",
       "      <td>104.781163</td>\n",
       "      <td>108.030037</td>\n",
       "      <td>190272600</td>\n",
       "    </tr>\n",
       "    <tr>\n",
       "      <th>2020-11-02</th>\n",
       "      <td>105.802513</td>\n",
       "      <td>107.660408</td>\n",
       "      <td>104.392075</td>\n",
       "      <td>106.133241</td>\n",
       "      <td>122866900</td>\n",
       "    </tr>\n",
       "    <tr>\n",
       "      <th>2020-11-03</th>\n",
       "      <td>107.426956</td>\n",
       "      <td>108.448305</td>\n",
       "      <td>105.763610</td>\n",
       "      <td>106.668237</td>\n",
       "      <td>107624400</td>\n",
       "    </tr>\n",
       "    <tr>\n",
       "      <th>2020-11-04</th>\n",
       "      <td>111.813919</td>\n",
       "      <td>112.436458</td>\n",
       "      <td>109.284854</td>\n",
       "      <td>111.026020</td>\n",
       "      <td>138235500</td>\n",
       "    </tr>\n",
       "  </tbody>\n",
       "</table>\n",
       "</div>"
      ],
      "text/plain": [
       "Price            Close        High         Low        Open     Volume\n",
       "Ticker            AAPL        AAPL        AAPL        AAPL       AAPL\n",
       "Date                                                                 \n",
       "2020-10-29  112.173805  113.739881  109.138923  109.304291  146129200\n",
       "2020-10-30  105.890060  108.934664  104.781163  108.030037  190272600\n",
       "2020-11-02  105.802513  107.660408  104.392075  106.133241  122866900\n",
       "2020-11-03  107.426956  108.448305  105.763610  106.668237  107624400\n",
       "2020-11-04  111.813919  112.436458  109.284854  111.026020  138235500"
      ]
     },
     "execution_count": 3,
     "metadata": {},
     "output_type": "execute_result"
    }
   ],
   "source": [
    "import yfinance as yf\n",
    "from datetime import timedelta\n",
    "\n",
    "ticker = 'AAPL'\n",
    "end_date = datetime.now()\n",
    "start_date = end_date - timedelta(days=5*365)\n",
    "\n",
    "print(f\"Coletando dados de {ticker}...\")\n",
    "stock_data = yf.download(ticker, start=start_date, end=end_date, auto_adjust=True)\n",
    "\n",
    "print(f\"✓ {len(stock_data)} registros coletados\")\n",
    "stock_data.head()"
   ]
  },
  {
   "cell_type": "markdown",
   "metadata": {},
   "source": [
    "## 2. Preparar Dados para Prophet"
   ]
  },
  {
   "cell_type": "code",
   "execution_count": 4,
   "metadata": {},
   "outputs": [
    {
     "name": "stdout",
     "output_type": "stream",
     "text": [
      "Dataset preparado: 1254 registros\n",
      "Período: 2020-10-29 até 2025-10-27\n",
      "Preço médio: $174.19\n",
      "\n",
      "Primeiras linhas:\n"
     ]
    },
    {
     "data": {
      "text/html": [
       "<div>\n",
       "<style scoped>\n",
       "    .dataframe tbody tr th:only-of-type {\n",
       "        vertical-align: middle;\n",
       "    }\n",
       "\n",
       "    .dataframe tbody tr th {\n",
       "        vertical-align: top;\n",
       "    }\n",
       "\n",
       "    .dataframe thead th {\n",
       "        text-align: right;\n",
       "    }\n",
       "</style>\n",
       "<table border=\"1\" class=\"dataframe\">\n",
       "  <thead>\n",
       "    <tr style=\"text-align: right;\">\n",
       "      <th></th>\n",
       "      <th>ds</th>\n",
       "      <th>y</th>\n",
       "    </tr>\n",
       "  </thead>\n",
       "  <tbody>\n",
       "    <tr>\n",
       "      <th>0</th>\n",
       "      <td>2020-10-29</td>\n",
       "      <td>112.173805</td>\n",
       "    </tr>\n",
       "    <tr>\n",
       "      <th>1</th>\n",
       "      <td>2020-10-30</td>\n",
       "      <td>105.890060</td>\n",
       "    </tr>\n",
       "    <tr>\n",
       "      <th>2</th>\n",
       "      <td>2020-11-02</td>\n",
       "      <td>105.802513</td>\n",
       "    </tr>\n",
       "    <tr>\n",
       "      <th>3</th>\n",
       "      <td>2020-11-03</td>\n",
       "      <td>107.426956</td>\n",
       "    </tr>\n",
       "    <tr>\n",
       "      <th>4</th>\n",
       "      <td>2020-11-04</td>\n",
       "      <td>111.813919</td>\n",
       "    </tr>\n",
       "  </tbody>\n",
       "</table>\n",
       "</div>"
      ],
      "text/plain": [
       "          ds           y\n",
       "0 2020-10-29  112.173805\n",
       "1 2020-10-30  105.890060\n",
       "2 2020-11-02  105.802513\n",
       "3 2020-11-03  107.426956\n",
       "4 2020-11-04  111.813919"
      ]
     },
     "execution_count": 4,
     "metadata": {},
     "output_type": "execute_result"
    }
   ],
   "source": [
    "df = pd.DataFrame()\n",
    "df['ds'] = stock_data.index\n",
    "df['y'] = stock_data['Close'].values\n",
    "df = df.reset_index(drop=True)\n",
    "\n",
    "print(f\"Dataset preparado: {len(df)} registros\")\n",
    "print(f\"Período: {df['ds'].min().date()} até {df['ds'].max().date()}\")\n",
    "print(f\"Preço médio: ${df['y'].mean():.2f}\")\n",
    "print(f\"\\nPrimeiras linhas:\")\n",
    "df.head()"
   ]
  },
  {
   "cell_type": "markdown",
   "metadata": {},
   "source": [
    "## 3. Dividir em Treino e Teste"
   ]
  },
  {
   "cell_type": "code",
   "execution_count": 5,
   "metadata": {},
   "outputs": [
    {
     "name": "stdout",
     "output_type": "stream",
     "text": [
      "Treino: 1164 registros (2020-10-29 até 2025-06-18)\n",
      "Teste: 90 registros (2025-06-20 até 2025-10-27)\n"
     ]
    }
   ],
   "source": [
    "test_size = 90\n",
    "train = df[:-test_size].copy()\n",
    "test = df[-test_size:].copy()\n",
    "\n",
    "print(f\"Treino: {len(train)} registros ({train['ds'].min().date()} até {train['ds'].max().date()})\")\n",
    "print(f\"Teste: {len(test)} registros ({test['ds'].min().date()} até {test['ds'].max().date()})\")"
   ]
  },
  {
   "cell_type": "code",
   "execution_count": 6,
   "metadata": {},
   "outputs": [
    {
     "data": {
      "image/png": "[encoded data removed]",
      "text/plain": [
       "<Figure size 1500x600 with 1 Axes>"
      ]
     },
     "metadata": {},
     "output_type": "display_data"
    }
   ],
   "source": [
    "plt.figure(figsize=(15, 6))\n",
    "plt.plot(train['ds'], train['y'], label='Treino', linewidth=1.5)\n",
    "plt.plot(test['ds'], test['y'], label='Teste', linewidth=1.5, color='orange')\n",
    "plt.axvline(x=train['ds'].iloc[-1], color='red', linestyle='--', linewidth=2, label='Divisão')\n",
    "plt.title('Divisão Treino/Teste - AAPL', fontsize=16, fontweight='bold')\n",
    "plt.xlabel('Data', fontsize=12)\n",
    "plt.ylabel('Preço (USD)', fontsize=12)\n",
    "plt.legend()\n",
    "plt.grid(True, alpha=0.3)\n",
    "plt.tight_layout()\n",
    "plt.show()"
   ]
  },
  {
   "cell_type": "markdown",
   "metadata": {},
   "source": [
    "## 4. Treinar Modelo Prophet"
   ]
  },
  {
   "cell_type": "code",
   "execution_count": 7,
   "metadata": {},
   "outputs": [
    {
     "name": "stdout",
     "output_type": "stream",
     "text": [
      "Treinando modelo Prophet...\n"
     ]
    },
    {
     "ename": "AttributeError",
     "evalue": "'Prophet' object has no attribute 'stan_backend'",
     "output_type": "error",
     "traceback": [
      "\u001b[31m---------------------------------------------------------------------------\u001b[39m",
      "\u001b[31mAttributeError\u001b[39m                            Traceback (most recent call last)",
      "\u001b[36mCell\u001b[39m\u001b[36m \u001b[39m\u001b[32mIn[7]\u001b[39m\u001b[32m, line 4\u001b[39m\n\u001b[32m      1\u001b[39m \u001b[38;5;28mprint\u001b[39m(\u001b[33m\"\u001b[39m\u001b[33mTreinando modelo Prophet...\u001b[39m\u001b[33m\"\u001b[39m)\n\u001b[32m      2\u001b[39m start_time = datetime.now()\n\u001b[32m----> \u001b[39m\u001b[32m4\u001b[39m model = \u001b[43mProphet\u001b[49m\u001b[43m(\u001b[49m\n\u001b[32m      5\u001b[39m \u001b[43m    \u001b[49m\u001b[43mdaily_seasonality\u001b[49m\u001b[43m=\u001b[49m\u001b[38;5;28;43;01mFalse\u001b[39;49;00m\u001b[43m,\u001b[49m\n\u001b[32m      6\u001b[39m \u001b[43m    \u001b[49m\u001b[43mweekly_seasonality\u001b[49m\u001b[43m=\u001b[49m\u001b[38;5;28;43;01mTrue\u001b[39;49;00m\u001b[43m,\u001b[49m\n\u001b[32m      7\u001b[39m \u001b[43m    \u001b[49m\u001b[43myearly_seasonality\u001b[49m\u001b[43m=\u001b[49m\u001b[38;5;28;43;01mTrue\u001b[39;49;00m\u001b[43m,\u001b[49m\n\u001b[32m      8\u001b[39m \u001b[43m    \u001b[49m\u001b[43mchangepoint_prior_scale\u001b[49m\u001b[43m=\u001b[49m\u001b[32;43m0.05\u001b[39;49m\u001b[43m,\u001b[49m\n\u001b[32m      9\u001b[39m \u001b[43m    \u001b[49m\u001b[43mseasonality_prior_scale\u001b[49m\u001b[43m=\u001b[49m\u001b[32;43m10\u001b[39;49m\n\u001b[32m     10\u001b[39m \u001b[43m)\u001b[49m\n\u001b[32m     12\u001b[39m model.fit(train)\n\u001b[32m     14\u001b[39m training_time = (datetime.now() - start_time).total_seconds()\n",
      "\u001b[36mFile \u001b[39m\u001b[32m~/Documents/FIAP/tech-challenge-5/venv/lib/python3.13/site-packages/prophet/forecaster.py:158\u001b[39m, in \u001b[36mProphet.__init__\u001b[39m\u001b[34m(self, growth, changepoints, n_changepoints, changepoint_range, yearly_seasonality, weekly_seasonality, daily_seasonality, holidays, seasonality_mode, seasonality_prior_scale, holidays_prior_scale, changepoint_prior_scale, mcmc_samples, interval_width, uncertainty_samples, stan_backend, scaling, holidays_mode)\u001b[39m\n\u001b[32m    156\u001b[39m \u001b[38;5;28mself\u001b[39m.fit_kwargs = {}\n\u001b[32m    157\u001b[39m \u001b[38;5;28mself\u001b[39m.validate_inputs()\n\u001b[32m--> \u001b[39m\u001b[32m158\u001b[39m \u001b[38;5;28;43mself\u001b[39;49m\u001b[43m.\u001b[49m\u001b[43m_load_stan_backend\u001b[49m\u001b[43m(\u001b[49m\u001b[43mstan_backend\u001b[49m\u001b[43m)\u001b[49m\n",
      "\u001b[36mFile \u001b[39m\u001b[32m~/Documents/FIAP/tech-challenge-5/venv/lib/python3.13/site-packages/prophet/forecaster.py:171\u001b[39m, in \u001b[36mProphet._load_stan_backend\u001b[39m\u001b[34m(self, stan_backend)\u001b[39m\n\u001b[32m    168\u001b[39m \u001b[38;5;28;01melse\u001b[39;00m:\n\u001b[32m    169\u001b[39m     \u001b[38;5;28mself\u001b[39m.stan_backend = StanBackendEnum.get_backend_class(stan_backend)()\n\u001b[32m--> \u001b[39m\u001b[32m171\u001b[39m logger.debug(\u001b[33m\"\u001b[39m\u001b[33mLoaded stan backend: \u001b[39m\u001b[38;5;132;01m%s\u001b[39;00m\u001b[33m\"\u001b[39m, \u001b[38;5;28;43mself\u001b[39;49m\u001b[43m.\u001b[49m\u001b[43mstan_backend\u001b[49m.get_type())\n",
      "\u001b[31mAttributeError\u001b[39m: 'Prophet' object has no attribute 'stan_backend'"
     ]
    }
   ],
   "source": [
    "print(\"Treinando modelo Prophet...\")\n",
    "start_time = datetime.now()\n",
    "\n",
    "model = Prophet(\n",
    "    daily_seasonality=False,\n",
    "    weekly_seasonality=True,\n",
    "    yearly_seasonality=True,\n",
    "    changepoint_prior_scale=0.05,\n",
    "    seasonality_prior_scale=10\n",
    ")\n",
    "\n",
    "model.fit(train)\n",
    "\n",
    "training_time = (datetime.now() - start_time).total_seconds()\n",
    "print(f\"✓ Modelo treinado em {training_time:.2f} segundos\")"
   ]
  },
  {
   "cell_type": "markdown",
   "metadata": {},
   "source": [
    "## 5. Fazer Previsões"
   ]
  },
  {
   "cell_type": "code",
   "execution_count": null,
   "metadata": {},
   "outputs": [],
   "source": [
    "future = model.make_future_dataframe(periods=test_size, freq='D')\n",
    "forecast = model.predict(future)\n",
    "\n",
    "print(f\"Previsões geradas: {len(forecast)}\")\n",
    "forecast[['ds', 'yhat', 'yhat_lower', 'yhat_upper']].tail(10)"
   ]
  },
  {
   "cell_type": "markdown",
   "metadata": {},
   "source": [
    "## 6. Avaliar Performance"
   ]
  },
  {
   "cell_type": "code",
   "execution_count": null,
   "metadata": {},
   "outputs": [],
   "source": [
    "predictions = forecast[-test_size:]['yhat'].values\n",
    "actuals = test['y'].values\n",
    "\n",
    "mae = mean_absolute_error(actuals, predictions)\n",
    "rmse = np.sqrt(mean_squared_error(actuals, predictions))\n",
    "mape = np.mean(np.abs((actuals - predictions) / actuals)) * 100\n",
    "r2 = r2_score(actuals, predictions)\n",
    "\n",
    "print(\"=\"*60)\n",
    "print(\"MÉTRICAS DE PERFORMANCE\")\n",
    "print(\"=\"*60)\n",
    "print(f\"MAE (Mean Absolute Error): ${mae:.2f}\")\n",
    "print(f\"RMSE (Root Mean Squared Error): ${rmse:.2f}\")\n",
    "print(f\"MAPE (Mean Absolute Percentage Error): {mape:.2f}%\")\n",
    "print(f\"R² Score: {r2:.4f}\")\n",
    "print(\"=\"*60)\n",
    "\n",
    "mean_price = actuals.mean()\n",
    "print(f\"\\nPreço médio no teste: ${mean_price:.2f}\")\n",
    "print(f\"Erro representa {(mae/mean_price)*100:.2f}% do preço médio\")"
   ]
  },
  {
   "cell_type": "markdown",
   "metadata": {},
   "source": [
    "## 7. Visualizar Previsões vs Realidade"
   ]
  },
  {
   "cell_type": "code",
   "execution_count": null,
   "metadata": {},
   "outputs": [],
   "source": [
    "plt.figure(figsize=(15, 6))\n",
    "plt.plot(test['ds'], actuals, label='Real', linewidth=2, marker='o', markersize=3)\n",
    "plt.plot(test['ds'], predictions, label='Previsão', linewidth=2, linestyle='--', marker='x', markersize=3)\n",
    "plt.title('Previsões vs Valores Reais - AAPL', fontsize=16, fontweight='bold')\n",
    "plt.xlabel('Data', fontsize=12)\n",
    "plt.ylabel('Preço (USD)', fontsize=12)\n",
    "plt.legend(fontsize=12)\n",
    "plt.grid(True, alpha=0.3)\n",
    "plt.tight_layout()\n",
    "plt.show()"
   ]
  },
  {
   "cell_type": "markdown",
   "metadata": {},
   "source": [
    "## 8. Gráfico Completo do Prophet"
   ]
  },
  {
   "cell_type": "code",
   "execution_count": null,
   "metadata": {},
   "outputs": [],
   "source": [
    "fig = model.plot(forecast, figsize=(15, 6))\n",
    "ax = fig.gca()\n",
    "ax.axvline(x=train['ds'].iloc[-1], color='red', linestyle='--', linewidth=2, label='Divisão')\n",
    "ax.set_title('Previsão Prophet - AAPL', fontsize=16, fontweight='bold')\n",
    "ax.set_xlabel('Data', fontsize=12)\n",
    "ax.set_ylabel('Preço (USD)', fontsize=12)\n",
    "plt.legend()\n",
    "plt.tight_layout()\n",
    "plt.show()"
   ]
  },
  {
   "cell_type": "markdown",
   "metadata": {},
   "source": [
    "## 9. Componentes da Série Temporal"
   ]
  },
  {
   "cell_type": "code",
   "execution_count": null,
   "metadata": {},
   "outputs": [],
   "source": [
    "fig = model.plot_components(forecast, figsize=(15, 10))\n",
    "plt.tight_layout()\n",
    "plt.show()"
   ]
  },
  {
   "cell_type": "markdown",
   "metadata": {},
   "source": [
    "## 10. Análise de Resíduos"
   ]
  },
  {
   "cell_type": "code",
   "execution_count": null,
   "metadata": {},
   "outputs": [],
   "source": [
    "residuals = actuals - predictions\n",
    "\n",
    "fig, axes = plt.subplots(2, 2, figsize=(15, 10))\n",
    "\n",
    "axes[0, 0].plot(test['ds'], residuals, marker='o', linestyle='', alpha=0.6)\n",
    "axes[0, 0].axhline(y=0, color='red', linestyle='--', linewidth=2)\n",
    "axes[0, 0].set_title('Resíduos ao Longo do Tempo', fontsize=14, fontweight='bold')\n",
    "axes[0, 0].set_xlabel('Data')\n",
    "axes[0, 0].set_ylabel('Resíduo (USD)')\n",
    "axes[0, 0].grid(True, alpha=0.3)\n",
    "\n",
    "axes[0, 1].hist(residuals, bins=30, edgecolor='black', alpha=0.7)\n",
    "axes[0, 1].axvline(x=0, color='red', linestyle='--', linewidth=2)\n",
    "axes[0, 1].set_title('Distribuição dos Resíduos', fontsize=14, fontweight='bold')\n",
    "axes[0, 1].set_xlabel('Resíduo (USD)')\n",
    "axes[0, 1].set_ylabel('Frequência')\n",
    "axes[0, 1].grid(True, alpha=0.3)\n",
    "\n",
    "axes[1, 0].scatter(predictions, actuals, alpha=0.6)\n",
    "min_val = min(predictions.min(), actuals.min())\n",
    "max_val = max(predictions.max(), actuals.max())\n",
    "axes[1, 0].plot([min_val, max_val], [min_val, max_val], 'r--', linewidth=2, label='Perfeito')\n",
    "axes[1, 0].set_title('Previsões vs Valores Reais', fontsize=14, fontweight='bold')\n",
    "axes[1, 0].set_xlabel('Previsões (USD)')\n",
    "axes[1, 0].set_ylabel('Valores Reais (USD)')\n",
    "axes[1, 0].legend()\n",
    "axes[1, 0].grid(True, alpha=0.3)\n",
    "axes[1, 1].scatter(predictions, residuals, alpha=0.6)\n",
    "axes[1, 1].axhline(y=0, color='red', linestyle='--', linewidth=2)\n",
    "axes[1, 1].set_title('Resíduos vs Previsões', fontsize=14, fontweight='bold')\n",
    "axes[1, 1].set_xlabel('Previsões (USD)')\n",
    "axes[1, 1].set_ylabel('Resíduos (USD)')\n",
    "axes[1, 1].grid(True, alpha=0.3)\n",
    "\n",
    "plt.tight_layout()\n",
    "plt.show()\n",
    "\n",
    "print(f\"Resíduo médio: ${residuals.mean():.2f}\")\n",
    "print(f\"Desvio padrão: ${residuals.std():.2f}\")"
   ]
  },
  {
   "cell_type": "markdown",
   "metadata": {},
   "source": [
    "## 11. Previsão Futura (30 dias)"
   ]
  },
  {
   "cell_type": "code",
   "execution_count": null,
   "metadata": {},
   "outputs": [],
   "source": [
    "future_days = 30\n",
    "future_df = model.make_future_dataframe(periods=len(test) + future_days, freq='D')\n",
    "future_forecast = model.predict(future_df)\n",
    "\n",
    "future_only = future_forecast.tail(future_days)\n",
    "print(f\"Previsões para os próximos {future_days} dias:\\n\")\n",
    "print(future_only[['ds', 'yhat', 'yhat_lower', 'yhat_upper']].to_string(index=False))"
   ]
  },
  {
   "cell_type": "code",
   "execution_count": null,
   "metadata": {},
   "outputs": [],
   "source": [
    "plt.figure(figsize=(15, 6))\n",
    "plt.plot(df['ds'], df['y'], label='Histórico', linewidth=1.5, alpha=0.7)\n",
    "plt.plot(future_only['ds'], future_only['yhat'], \n",
    "         label=f'Previsão {future_days} dias', linewidth=2, linestyle='--', color='red', marker='o', markersize=4)\n",
    "plt.fill_between(future_only['ds'], future_only['yhat_lower'], future_only['yhat_upper'], \n",
    "                 alpha=0.3, color='red', label='Intervalo de Confiança')\n",
    "plt.axvline(x=df['ds'].iloc[-1], color='green', linestyle='--', linewidth=2, label='Hoje')\n",
    "plt.title(f'AAPL - Previsão {future_days} Dias', fontsize=16, fontweight='bold')\n",
    "plt.xlabel('Data', fontsize=12)\n",
    "plt.ylabel('Preço (USD)', fontsize=12)\n",
    "plt.legend()\n",
    "plt.grid(True, alpha=0.3)\n",
    "plt.tight_layout()\n",
    "plt.show()"
   ]
  },
  {
   "cell_type": "markdown",
   "metadata": {},
   "source": [
    "## 12. Salvar Modelo"
   ]
  },
  {
   "cell_type": "code",
   "execution_count": null,
   "metadata": {},
   "outputs": [],
   "source": [
    "import os\n",
    "\n",
    "os.makedirs('../models', exist_ok=True)\n",
    "\n",
    "timestamp = datetime.now().strftime('%Y%m%d_%H%M%S')\n",
    "model_path = f'../models/prophet_aapl_{timestamp}.pkl'\n",
    "\n",
    "with open(model_path, 'wb') as f:\n",
    "    pickle.dump(model, f)\n",
    "\n",
    "print(f\"✓ Modelo salvo: {model_path}\")"
   ]
  },
  {
   "cell_type": "markdown",
   "metadata": {},
   "source": [
    "## 13. Salvar Métricas"
   ]
  },
  {
   "cell_type": "code",
   "execution_count": null,
   "metadata": {},
   "outputs": [],
   "source": [
    "import json\n",
    "\n",
    "metrics = {\n",
    "    'model': 'Prophet',\n",
    "    'ticker': ticker,\n",
    "    'timestamp': timestamp,\n",
    "    'training_time_seconds': training_time,\n",
    "    'train_size': len(train),\n",
    "    'test_size': len(test),\n",
    "    'mae': float(mae),\n",
    "    'rmse': float(rmse),\n",
    "    'mape': float(mape),\n",
    "    'r2': float(r2),\n",
    "    'model_file': model_path\n",
    "}\n",
    "\n",
    "metrics_path = f'../models/metrics_{timestamp}.json'\n",
    "with open(metrics_path, 'w') as f:\n",
    "    json.dump(metrics, f, indent=4)\n",
    "\n",
    "print(f\"✓ Métricas salvas: {metrics_path}\")\n",
    "print(\"\\n\" + json.dumps(metrics, indent=2))"
   ]
  },
  {
   "cell_type": "markdown",
   "metadata": {},
   "source": [
    "## 14. Resumo Final"
   ]
  },
  {
   "cell_type": "code",
   "execution_count": null,
   "metadata": {},
   "outputs": [],
   "source": [
    "print(\"=\"*70)\n",
    "print(\"RESUMO DO TREINAMENTO\")\n",
    "print(\"=\"*70)\n",
    "print(f\"Ticker: {ticker}\")\n",
    "print(f\"Modelo: Prophet\")\n",
    "print(f\"Data de treino: {datetime.now().strftime('%Y-%m-%d %H:%M:%S')}\")\n",
    "print(f\"Tempo de treino: {training_time:.2f}s\")\n",
    "print(f\"\\nDados:\")\n",
    "print(f\"  Total: {len(df)} registros\")\n",
    "print(f\"  Treino: {len(train)} ({train['ds'].min().date()} a {train['ds'].max().date()})\")\n",
    "print(f\"  Teste: {len(test)} ({test['ds'].min().date()} a {test['ds'].max().date()})\")\n",
    "print(f\"\\nPerformance:\")\n",
    "print(f\"  MAE: ${mae:.2f} ({(mae/mean_price)*100:.2f}%)\")\n",
    "print(f\"  RMSE: ${rmse:.2f}\")\n",
    "print(f\"  MAPE: {mape:.2f}%\")\n",
    "print(f\"  R²: {r2:.4f}\")\n",
    "print(f\"\\nArquivos:\")\n",
    "print(f\"  Modelo: {model_path}\")\n",
    "print(f\"  Métricas: {metrics_path}\")\n",
    "print(\"=\"*70)"
   ]
  }
 ],
 "metadata": {
  "kernelspec": {
   "display_name": "Python 3 (ipykernel)",
   "language": "python",
   "name": "python3"
  },
  "language_info": {
   "codemirror_mode": {
    "name": "ipython",
    "version": 3
   },
   "file_extension": ".py",
   "mimetype": "text/x-python",
   "name": "python",
   "nbconvert_exporter": "python",
   "pygments_lexer": "ipython3",
   "version": "3.13.7"
  }
 },
 "nbformat": 4,
 "nbformat_minor": 4
}
